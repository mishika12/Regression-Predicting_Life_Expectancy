{
 "cells": [
  {
   "cell_type": "markdown",
   "metadata": {
    "id": "E8A0yIDCtJLa"
   },
   "source": [
    "# Linear Regression"
   ]
  },
  {
   "cell_type": "code",
   "execution_count": 4,
   "metadata": {
    "id": "xwWTXsa30LLu"
   },
   "outputs": [],
   "source": [
    "import numpy as np\n",
    "import pandas as pd\n",
    "import matplotlib.pyplot as plt\n",
    "import seaborn as sns"
   ]
  },
  {
   "cell_type": "code",
   "execution_count": 6,
   "metadata": {
    "id": "viQgJ6uy03nd"
   },
   "outputs": [],
   "source": [
    "# Load the training data\n",
    "\n",
    "train = pd.read_csv('LifeExpectancy_training_modified.csv')"
   ]
  },
  {
   "cell_type": "code",
   "execution_count": 8,
   "metadata": {
    "colab": {
     "base_uri": "https://localhost:8080/",
     "height": 226
    },
    "id": "bTxYGeoSxcKs",
    "outputId": "c8593163-4ad4-4375-e8f8-abadeb945ada"
   },
   "outputs": [
    {
     "data": {
      "text/html": [
       "<div>\n",
       "<style scoped>\n",
       "    .dataframe tbody tr th:only-of-type {\n",
       "        vertical-align: middle;\n",
       "    }\n",
       "\n",
       "    .dataframe tbody tr th {\n",
       "        vertical-align: top;\n",
       "    }\n",
       "\n",
       "    .dataframe thead th {\n",
       "        text-align: right;\n",
       "    }\n",
       "</style>\n",
       "<table border=\"1\" class=\"dataframe\">\n",
       "  <thead>\n",
       "    <tr style=\"text-align: right;\">\n",
       "      <th></th>\n",
       "      <th>Year</th>\n",
       "      <th>Status</th>\n",
       "      <th>Adult_Mortality</th>\n",
       "      <th>Alcohol</th>\n",
       "      <th>percentage_expenditure</th>\n",
       "      <th>BMI</th>\n",
       "      <th>Total_expenditure</th>\n",
       "      <th>Diphtheria</th>\n",
       "      <th>HIV_AIDS</th>\n",
       "      <th>GDP</th>\n",
       "      <th>Population</th>\n",
       "      <th>Income_composition_of_resources</th>\n",
       "      <th>Schooling</th>\n",
       "      <th>Health_Index</th>\n",
       "      <th>Life_expectancy</th>\n",
       "    </tr>\n",
       "  </thead>\n",
       "  <tbody>\n",
       "    <tr>\n",
       "      <th>0</th>\n",
       "      <td>2011</td>\n",
       "      <td>Developing</td>\n",
       "      <td>93</td>\n",
       "      <td>1.57</td>\n",
       "      <td>835.062683</td>\n",
       "      <td>64.0</td>\n",
       "      <td>7.12</td>\n",
       "      <td>81</td>\n",
       "      <td>0.1</td>\n",
       "      <td>8734.96530</td>\n",
       "      <td>4588368.0</td>\n",
       "      <td>0.758</td>\n",
       "      <td>13.2</td>\n",
       "      <td>0.475880</td>\n",
       "      <td>75.0</td>\n",
       "    </tr>\n",
       "    <tr>\n",
       "      <th>1</th>\n",
       "      <td>2014</td>\n",
       "      <td>Developing</td>\n",
       "      <td>152</td>\n",
       "      <td>6.41</td>\n",
       "      <td>789.077295</td>\n",
       "      <td>32.4</td>\n",
       "      <td>4.12</td>\n",
       "      <td>99</td>\n",
       "      <td>0.1</td>\n",
       "      <td>5941.84710</td>\n",
       "      <td>68416772.0</td>\n",
       "      <td>0.737</td>\n",
       "      <td>13.6</td>\n",
       "      <td>0.203275</td>\n",
       "      <td>74.6</td>\n",
       "    </tr>\n",
       "    <tr>\n",
       "      <th>2</th>\n",
       "      <td>2013</td>\n",
       "      <td>Developed</td>\n",
       "      <td>68</td>\n",
       "      <td>11.82</td>\n",
       "      <td>90.585012</td>\n",
       "      <td>56.6</td>\n",
       "      <td>11.14</td>\n",
       "      <td>95</td>\n",
       "      <td>0.1</td>\n",
       "      <td>554.71532</td>\n",
       "      <td>8479375.0</td>\n",
       "      <td>0.887</td>\n",
       "      <td>15.7</td>\n",
       "      <td>0.913847</td>\n",
       "      <td>81.1</td>\n",
       "    </tr>\n",
       "    <tr>\n",
       "      <th>3</th>\n",
       "      <td>2014</td>\n",
       "      <td>Developed</td>\n",
       "      <td>135</td>\n",
       "      <td>0.01</td>\n",
       "      <td>1.576409</td>\n",
       "      <td>59.9</td>\n",
       "      <td>5.57</td>\n",
       "      <td>94</td>\n",
       "      <td>0.1</td>\n",
       "      <td>12.27733</td>\n",
       "      <td>1998979.0</td>\n",
       "      <td>0.797</td>\n",
       "      <td>14.7</td>\n",
       "      <td>0.275401</td>\n",
       "      <td>74.8</td>\n",
       "    </tr>\n",
       "    <tr>\n",
       "      <th>4</th>\n",
       "      <td>2002</td>\n",
       "      <td>Developing</td>\n",
       "      <td>192</td>\n",
       "      <td>5.93</td>\n",
       "      <td>27.638103</td>\n",
       "      <td>2.2</td>\n",
       "      <td>3.70</td>\n",
       "      <td>96</td>\n",
       "      <td>0.7</td>\n",
       "      <td>296.54617</td>\n",
       "      <td>6473164.0</td>\n",
       "      <td>0.657</td>\n",
       "      <td>11.5</td>\n",
       "      <td>0.400974</td>\n",
       "      <td>71.4</td>\n",
       "    </tr>\n",
       "  </tbody>\n",
       "</table>\n",
       "</div>"
      ],
      "text/plain": [
       "   Year      Status  Adult_Mortality  Alcohol  percentage_expenditure   BMI  \\\n",
       "0  2011  Developing               93     1.57              835.062683  64.0   \n",
       "1  2014  Developing              152     6.41              789.077295  32.4   \n",
       "2  2013   Developed               68    11.82               90.585012  56.6   \n",
       "3  2014   Developed              135     0.01                1.576409  59.9   \n",
       "4  2002  Developing              192     5.93               27.638103   2.2   \n",
       "\n",
       "   Total_expenditure  Diphtheria  HIV_AIDS         GDP  Population  \\\n",
       "0               7.12          81       0.1  8734.96530   4588368.0   \n",
       "1               4.12          99       0.1  5941.84710  68416772.0   \n",
       "2              11.14          95       0.1   554.71532   8479375.0   \n",
       "3               5.57          94       0.1    12.27733   1998979.0   \n",
       "4               3.70          96       0.7   296.54617   6473164.0   \n",
       "\n",
       "   Income_composition_of_resources  Schooling  Health_Index  Life_expectancy  \n",
       "0                            0.758       13.2      0.475880             75.0  \n",
       "1                            0.737       13.6      0.203275             74.6  \n",
       "2                            0.887       15.7      0.913847             81.1  \n",
       "3                            0.797       14.7      0.275401             74.8  \n",
       "4                            0.657       11.5      0.400974             71.4  "
      ]
     },
     "execution_count": 8,
     "metadata": {},
     "output_type": "execute_result"
    }
   ],
   "source": [
    "# Show the first 5 lines\n",
    "\n",
    "train.head()"
   ]
  },
  {
   "cell_type": "markdown",
   "metadata": {
    "id": "kIRo3Da91IdF"
   },
   "source": [
    "## Data Exploration\n",
    "We can plot a histogram of the dataframe for the features except \"Status\" to understand their distributions. <br/>"
   ]
  },
  {
   "cell_type": "code",
   "execution_count": 7,
   "metadata": {
    "colab": {
     "base_uri": "https://localhost:8080/",
     "height": 812
    },
    "id": "iemQk82B3Nam",
    "outputId": "ca171094-164d-478f-830f-ba87ad919280"
   },
   "outputs": [
    {
     "data": {
      "image/png": "[encoded data removed]",
      "text/plain": [
       "<Figure size 1500x1000 with 16 Axes>"
      ]
     },
     "metadata": {},
     "output_type": "display_data"
    }
   ],
   "source": [
    "train.hist(figsize=(15,10))\n",
    "plt.show()"
   ]
  },
  {
   "cell_type": "code",
   "execution_count": null,
   "metadata": {
    "colab": {
     "base_uri": "https://localhost:8080/"
    },
    "id": "ZBEpUpTjM7gP",
    "outputId": "0a2d2309-b6a2-4fe1-c8ee-581fdd274bbe"
   },
   "outputs": [
    {
     "data": {
      "text/plain": [
       "<bound method Series.sort_values of 2009    96\n",
       "2011    93\n",
       "2014    92\n",
       "2013    92\n",
       "2010    89\n",
       "2008    87\n",
       "2012    85\n",
       "2007    83\n",
       "2006    82\n",
       "2004    71\n",
       "2005    70\n",
       "2002    61\n",
       "2003    61\n",
       "2015     2\n",
       "Name: Year, dtype: int64>"
      ]
     },
     "execution_count": 9,
     "metadata": {},
     "output_type": "execute_result"
    }
   ],
   "source": [
    "train['Year'].value_counts().sort_values"
   ]
  },
  {
   "cell_type": "markdown",
   "metadata": {
    "id": "4jgRzQjmQdB3"
   },
   "source": [
    "### Inference from the histograms <br/>\n",
    "\n",
    "**Year**: Given that year is a discrete variable, it would be more appropriate to plot its distribution using a bar graph as opposed to a histogram.\n",
    "\n",
    "**Adult Mortality**: It is skewed to the right implying that majority of the adult mortality rates are not more than 400 per 1000 population.\n",
    "\n",
    "**Alcohol**: It is skewed to the right implying that alcohol consumption per capita is less than 5 for majority of the population.\n",
    "\n",
    "**Percentage Expenditure**: It is extremely skewed to the right suggesting that the Expenditure on health as a percentage of Gross Domestic Product per capita is not more than 3000-4000.\n",
    "\n",
    "**BMI**: The average Body Mass Index of entire population seems to be bimodal and spike around 20 and 55 respectively suggesting that either many people are very healthy or very unhealthy.\n",
    "\n",
    "**Total_expenditure**: The general expenditure by the government on health seems to be approximately normally distributed.\n",
    "\n",
    "**Diphtheria**: It is highly skewed to the left implying that the diphtheria immunization coverage is greater than 75% for majority of the population.\n",
    "\n",
    "**HIV_AIDS**: It is highly skewed to the right implying that the number of deaths per 1000 live births (HIV/AIDS) is less than 5.\n",
    "\n",
    "**GDP**: It is extremely skewed to the right suggesting that the GDP is very low.\n",
    "\n",
    "**Population**: The distribution is skewed to the right. Most values seem to be centered around 0.1-0.2 * 10^9.\n",
    "\n",
    "**Income Composition of Resources**: It is skewed to the left implying a higher Human Development Index.\n",
    "\n",
    "**Schooling**: It tends to be approximately normally distributed with an average number of schooling years between 10-15 years.\n",
    "\n",
    "**Health_Index**: This is multimodal and nothing concrete can be inferred from it.\n",
    "\n",
    "**Life Expectancy**: It is slightly skewed to the left with a mode of 72-74.\n",
    "\n"
   ]
  },
  {
   "cell_type": "markdown",
   "metadata": {
    "id": "xmq41MOV9Z8d"
   },
   "source": [
    "Compute the correlation matrix to get an understanding of the correlation between life_expectancy and the other features.<br/>"
   ]
  },
  {
   "cell_type": "code",
   "execution_count": null,
   "metadata": {
    "colab": {
     "base_uri": "https://localhost:8080/"
    },
    "id": "udmP92armpw7",
    "outputId": "07fb793c-7cdd-4b2b-f99b-3b4400c2dc7d"
   },
   "outputs": [
    {
     "name": "stderr",
     "output_type": "stream",
     "text": [
      "<ipython-input-16-809b4d69563b>:2: FutureWarning: The default value of numeric_only in DataFrame.corr is deprecated. In a future version, it will default to False. Select only valid columns or specify the value of numeric_only to silence this warning.\n",
      "  train.corr()[\"Life_expectancy\"]\n"
     ]
    },
    {
     "data": {
      "text/plain": [
       "Year                               0.070097\n",
       "Adult_Mortality                   -0.698473\n",
       "Alcohol                            0.439279\n",
       "percentage_expenditure             0.412576\n",
       "BMI                                0.557677\n",
       "Total_expenditure                  0.211976\n",
       "Diphtheria                         0.366748\n",
       "HIV_AIDS                          -0.588284\n",
       "GDP                                0.445212\n",
       "Population                        -0.009788\n",
       "Income_composition_of_resources    0.756515\n",
       "Schooling                          0.755132\n",
       "Health_Index                       0.048112\n",
       "Life_expectancy                    1.000000\n",
       "Name: Life_expectancy, dtype: float64"
      ]
     },
     "execution_count": 16,
     "metadata": {},
     "output_type": "execute_result"
    }
   ],
   "source": [
    "\n",
    "train.corr()[\"Life_expectancy\"]"
   ]
  },
  {
   "cell_type": "code",
   "execution_count": null,
   "metadata": {
    "colab": {
     "base_uri": "https://localhost:8080/",
     "height": 732
    },
    "id": "WmuZTzx29bkO",
    "outputId": "5aae9a4d-27f3-465c-ced5-1b66a4970a5f"
   },
   "outputs": [
    {
     "name": "stderr",
     "output_type": "stream",
     "text": [
      "<ipython-input-13-d57083740da1>:2: FutureWarning: The default value of numeric_only in DataFrame.corr is deprecated. In a future version, it will default to False. Select only valid columns or specify the value of numeric_only to silence this warning.\n",
      "  corr = train.corr()\n"
     ]
    },
    {
     "data": {
      "text/plain": [
       "<Axes: >"
      ]
     },
     "execution_count": 13,
     "metadata": {},
     "output_type": "execute_result"
    },
    {
     "data": {
      "image/png": "[encoded data removed]",
      "text/plain": [
       "<Figure size 640x480 with 2 Axes>"
      ]
     },
     "metadata": {},
     "output_type": "display_data"
    }
   ],
   "source": [
    "sns.heatmap(train.corr(), cmap = 'crest')"
   ]
  },
  {
   "cell_type": "markdown",
   "metadata": {
    "id": "jYvGzY8Z-ni-"
   },
   "source": [
    "### Standardization of features"
   ]
  },
  {
   "cell_type": "markdown",
   "metadata": {
    "id": "Jhq-T3Ed-r8w"
   },
   "source": [
    "Feature standardization makes the values of each feature in the data have zero-mean and unit-variance. This method is widely used for normalization in many machine learning algorithms. The general method of calculation is to determine the distribution mean and standard deviation for each feature. Next we subtract the mean from each feature. Then we divide the values of each feature by its standard deviation.\n",
    "\n",
    "$x'$ = ($x$ - $\\bar{x}$)/$\\sigma$\n",
    "\n",
    "where $x$ is the original feature vector,\n",
    "$\\bar{x}$ is the mean of the feature vector and\n",
    "$\\sigma$ is its standard deviation.\n",
    "\n",
    "This is also called Z-score Normalization.\n",
    "\n",
    "Performing Z-score Normalization on the features (except \"Year\" and \"Status\") in both training and test set."
   ]
  },
  {
   "cell_type": "code",
   "execution_count": null,
   "metadata": {
    "colab": {
     "base_uri": "https://localhost:8080/"
    },
    "id": "iD2UmlarDHY_",
    "outputId": "23c59de3-9665-411e-d2b9-b5413f3b04ff"
   },
   "outputs": [
    {
     "data": {
      "text/plain": [
       "Index(['Year', 'Status', 'Adult_Mortality', 'Alcohol',\n",
       "       'percentage_expenditure', 'BMI', 'Total_expenditure', 'Diphtheria',\n",
       "       'HIV_AIDS', 'GDP', 'Population', 'Income_composition_of_resources',\n",
       "       'Health_Index', 'Schooling'],\n",
       "      dtype='object')"
      ]
     },
     "execution_count": 17,
     "metadata": {},
     "output_type": "execute_result"
    }
   ],
   "source": [
    "# Load the test set \n",
    "test = pd.read_csv(\"LifeExpectancy_test_modified.csv\")\n",
    "\n",
    "train.columns\n",
    "test.columns"
   ]
  },
  {
   "cell_type": "code",
   "execution_count": null,
   "metadata": {
    "id": "a8Hu-t4eBphh"
   },
   "outputs": [],
   "source": [
    "from sklearn.preprocessing import StandardScaler\n",
    "numeric_columns = train.drop([\"Life_expectancy\", \"Year\", \"Status\"],axis='columns').columns\n",
    "scaler = StandardScaler().fit(test[numeric_columns])\n",
    "train[numeric_columns] = scaler.transform(train[numeric_columns])\n",
    "test[numeric_columns] = scaler.transform(test[numeric_columns])"
   ]
  },
  {
   "cell_type": "markdown",
   "metadata": {
    "id": "5tr1XcvyFIcN"
   },
   "source": [
    "### One-Hot Encoding"
   ]
  },
  {
   "cell_type": "markdown",
   "metadata": {
    "id": "fyyGwM3JFS4Y"
   },
   "source": [
    "\"Year\" and \"Status\" can only take discrete values. We need to perform one-hot encoding on discrete values for it to be processed in the model. One hot encoding is a process by which categorical variables are converted into a form that could be provided to ML algorithms to do a better job in prediction.\n",
    "Performing one-hot encoding on \"Year\" and \"Status\" and print the shape of your encoded array"
   ]
  },
  {
   "cell_type": "code",
   "execution_count": null,
   "metadata": {
    "colab": {
     "base_uri": "https://localhost:8080/"
    },
    "id": "CVbI2IVxFuHn",
    "outputId": "0e9fe408-5401-45b5-8830-718ff228a1cf"
   },
   "outputs": [
    {
     "data": {
      "text/plain": [
       "(1064, 16)"
      ]
     },
     "execution_count": 20,
     "metadata": {},
     "output_type": "execute_result"
    }
   ],
   "source": [
    "from sklearn.preprocessing import OneHotEncoder\n",
    "### WRITE CODE TO PERFORM ONE-HOT CODING ON \"Year\" AND \"Status\" ###\n",
    "cat_cols = [\"Year\", \"Status\"]\n",
    "encoder = OneHotEncoder(sparse_output=False, handle_unknown=\"infrequent_if_exist\").fit(train[cat_cols])\n",
    "enc_column_names = [f\"{col}_{enc}\" for col, encs in zip(cat_cols, encoder.categories_) for enc in encs]\n",
    "train_cat = pd.DataFrame(encoder.transform(train[cat_cols]), columns=enc_column_names)\n",
    "test_cat = pd.DataFrame(encoder.transform(test[cat_cols]), columns=enc_column_names)\n",
    "# Print the shape of your encoded X\n",
    "train_cat.shape"
   ]
  },
  {
   "cell_type": "markdown",
   "metadata": {
    "id": "Fp5S0WizKI0g"
   },
   "source": [
    "## Multiple Linear Regression\n",
    "\n",
    "In the big data era, it is highly unlikely that we are interested in the effect of a single variable on another. To simultaneously account for the effects of multiple variables, we use multiple regression (which accounts for the covariances between predictors).\n",
    "\n",
    "While the algorithmic solution to multiple regression exists, it is easier to conceptualize in terms of linear algebra. The optimal $\\hat{\\beta}$ vector that minimizes the residual sum of squares is:\n",
    "\n",
    "$\\hat{\\beta} = (X^TX)^{-1}X^Ty $\n",
    "\n",
    "\n",
    "Performing multiple linear regression on the training dataset, where the outcome is \"Life_expectancy\"."
   ]
  },
  {
   "cell_type": "code",
   "execution_count": null,
   "metadata": {
    "id": "3-saM1rTKjKH"
   },
   "outputs": [],
   "source": [
    "from sklearn.linear_model import LinearRegression"
   ]
  },
  {
   "cell_type": "code",
   "execution_count": null,
   "metadata": {
    "id": "GTfbR3b-KoeW"
   },
   "outputs": [],
   "source": [
    "### Building and fitting the Multiple Linear Regression model###\n",
    "y_train = train[\"Life_expectancy\"]\n",
    "X_train = pd.concat([train.drop(cat_cols+[\"Life_expectancy\"], axis='columns'), train_cat],axis='columns')\n",
    "X_test = pd.concat([test.drop(cat_cols, axis='columns'), test_cat],axis='columns')\n",
    "model = LinearRegression().fit(X_train, y_train)"
   ]
  },
  {
   "cell_type": "code",
   "execution_count": null,
   "metadata": {
    "colab": {
     "base_uri": "https://localhost:8080/"
    },
    "id": "FpQe-p3LLXgA",
    "outputId": "5a222035-1112-40bc-859b-de2629d68149"
   },
   "outputs": [
    {
     "data": {
      "text/plain": [
       "12.747314971108777"
      ]
     },
     "execution_count": 33,
     "metadata": {},
     "output_type": "execute_result"
    }
   ],
   "source": [
    "### Evaluating the Linear Regression model by computing MSE on the training set###\n",
    "from sklearn.metrics import mean_squared_error\n",
    "mean_squared_error(y_train, model.predict(X_train))"
   ]
  },
  {
   "cell_type": "markdown",
   "metadata": {
    "id": "O2jOEvNiO84E"
   },
   "source": [
    "Printing the value of coefficients and also the corresponding variable names for the coefficients."
   ]
  },
  {
   "cell_type": "code",
   "execution_count": null,
   "metadata": {
    "colab": {
     "base_uri": "https://localhost:8080/",
     "height": 927
    },
    "id": "g8I_11vlr0pp",
    "outputId": "d0bb91e7-918a-416b-e35b-6889542b0322"
   },
   "outputs": [
    {
     "data": {
      "text/html": [
       "\n",
       "  <div id=\"df-da4b0e4f-e5ca-499a-802e-a7c7be5a769e\" class=\"colab-df-container\">\n",
       "    <div>\n",
       "<style scoped>\n",
       "    .dataframe tbody tr th:only-of-type {\n",
       "        vertical-align: middle;\n",
       "    }\n",
       "\n",
       "    .dataframe tbody tr th {\n",
       "        vertical-align: top;\n",
       "    }\n",
       "\n",
       "    .dataframe thead th {\n",
       "        text-align: right;\n",
       "    }\n",
       "</style>\n",
       "<table border=\"1\" class=\"dataframe\">\n",
       "  <thead>\n",
       "    <tr style=\"text-align: right;\">\n",
       "      <th></th>\n",
       "      <th>column_name</th>\n",
       "    </tr>\n",
       "  </thead>\n",
       "  <tbody>\n",
       "    <tr>\n",
       "      <th>Adult_Mortality</th>\n",
       "      <td>-2.170051</td>\n",
       "    </tr>\n",
       "    <tr>\n",
       "      <th>Alcohol</th>\n",
       "      <td>-0.497004</td>\n",
       "    </tr>\n",
       "    <tr>\n",
       "      <th>percentage_expenditure</th>\n",
       "      <td>0.538908</td>\n",
       "    </tr>\n",
       "    <tr>\n",
       "      <th>BMI</th>\n",
       "      <td>0.686499</td>\n",
       "    </tr>\n",
       "    <tr>\n",
       "      <th>Total_expenditure</th>\n",
       "      <td>0.246532</td>\n",
       "    </tr>\n",
       "    <tr>\n",
       "      <th>Diphtheria</th>\n",
       "      <td>0.550292</td>\n",
       "    </tr>\n",
       "    <tr>\n",
       "      <th>HIV_AIDS</th>\n",
       "      <td>-3.171361</td>\n",
       "    </tr>\n",
       "    <tr>\n",
       "      <th>GDP</th>\n",
       "      <td>0.129958</td>\n",
       "    </tr>\n",
       "    <tr>\n",
       "      <th>Population</th>\n",
       "      <td>-0.084631</td>\n",
       "    </tr>\n",
       "    <tr>\n",
       "      <th>Income_composition_of_resources</th>\n",
       "      <td>2.102447</td>\n",
       "    </tr>\n",
       "    <tr>\n",
       "      <th>Schooling</th>\n",
       "      <td>2.660248</td>\n",
       "    </tr>\n",
       "    <tr>\n",
       "      <th>Health_Index</th>\n",
       "      <td>0.254583</td>\n",
       "    </tr>\n",
       "    <tr>\n",
       "      <th>Year_2002</th>\n",
       "      <td>0.556339</td>\n",
       "    </tr>\n",
       "    <tr>\n",
       "      <th>Year_2003</th>\n",
       "      <td>0.894259</td>\n",
       "    </tr>\n",
       "    <tr>\n",
       "      <th>Year_2004</th>\n",
       "      <td>0.561044</td>\n",
       "    </tr>\n",
       "    <tr>\n",
       "      <th>Year_2005</th>\n",
       "      <td>0.578671</td>\n",
       "    </tr>\n",
       "    <tr>\n",
       "      <th>Year_2006</th>\n",
       "      <td>0.281139</td>\n",
       "    </tr>\n",
       "    <tr>\n",
       "      <th>Year_2007</th>\n",
       "      <td>0.225120</td>\n",
       "    </tr>\n",
       "    <tr>\n",
       "      <th>Year_2008</th>\n",
       "      <td>-0.097972</td>\n",
       "    </tr>\n",
       "    <tr>\n",
       "      <th>Year_2009</th>\n",
       "      <td>-0.405501</td>\n",
       "    </tr>\n",
       "    <tr>\n",
       "      <th>Year_2010</th>\n",
       "      <td>-0.558423</td>\n",
       "    </tr>\n",
       "    <tr>\n",
       "      <th>Year_2011</th>\n",
       "      <td>-0.781687</td>\n",
       "    </tr>\n",
       "    <tr>\n",
       "      <th>Year_2012</th>\n",
       "      <td>-0.716917</td>\n",
       "    </tr>\n",
       "    <tr>\n",
       "      <th>Year_2013</th>\n",
       "      <td>-0.850839</td>\n",
       "    </tr>\n",
       "    <tr>\n",
       "      <th>Year_2014</th>\n",
       "      <td>-0.857426</td>\n",
       "    </tr>\n",
       "    <tr>\n",
       "      <th>Year_2015</th>\n",
       "      <td>1.172194</td>\n",
       "    </tr>\n",
       "    <tr>\n",
       "      <th>Status_Developed</th>\n",
       "      <td>0.315457</td>\n",
       "    </tr>\n",
       "    <tr>\n",
       "      <th>Status_Developing</th>\n",
       "      <td>-0.315457</td>\n",
       "    </tr>\n",
       "  </tbody>\n",
       "</table>\n",
       "</div>\n",
       "    <div class=\"colab-df-buttons\">\n",
       "\n",
       "  <div class=\"colab-df-container\">\n",
       "    <button class=\"colab-df-convert\" onclick=\"convertToInteractive('df-da4b0e4f-e5ca-499a-802e-a7c7be5a769e')\"\n",
       "            title=\"Convert this dataframe to an interactive table.\"\n",
       "            style=\"display:none;\">\n",
       "\n",
       "  <svg xmlns=\"http://www.w3.org/2000/svg\" height=\"24px\" viewBox=\"0 -960 960 960\">\n",
       "    <path d=\"M120-120v-720h720v720H120Zm60-500h600v-160H180v160Zm220 220h160v-160H400v160Zm0 220h160v-160H400v160ZM180-400h160v-160H180v160Zm440 0h160v-160H620v160ZM180-180h160v-160H180v160Zm440 0h160v-160H620v160Z\"/>\n",
       "  </svg>\n",
       "    </button>\n",
       "\n",
       "  <style>\n",
       "    .colab-df-container {\n",
       "      display:flex;\n",
       "      gap: 12px;\n",
       "    }\n",
       "\n",
       "    .colab-df-convert {\n",
       "      background-color: #E8F0FE;\n",
       "      border: none;\n",
       "      border-radius: 50%;\n",
       "      cursor: pointer;\n",
       "      display: none;\n",
       "      fill: #1967D2;\n",
       "      height: 32px;\n",
       "      padding: 0 0 0 0;\n",
       "      width: 32px;\n",
       "    }\n",
       "\n",
       "    .colab-df-convert:hover {\n",
       "      background-color: #E2EBFA;\n",
       "      box-shadow: 0px 1px 2px rgba(60, 64, 67, 0.3), 0px 1px 3px 1px rgba(60, 64, 67, 0.15);\n",
       "      fill: #174EA6;\n",
       "    }\n",
       "\n",
       "    .colab-df-buttons div {\n",
       "      margin-bottom: 4px;\n",
       "    }\n",
       "\n",
       "    [theme=dark] .colab-df-convert {\n",
       "      background-color: #3B4455;\n",
       "      fill: #D2E3FC;\n",
       "    }\n",
       "\n",
       "    [theme=dark] .colab-df-convert:hover {\n",
       "      background-color: #434B5C;\n",
       "      box-shadow: 0px 1px 3px 1px rgba(0, 0, 0, 0.15);\n",
       "      filter: drop-shadow(0px 1px 2px rgba(0, 0, 0, 0.3));\n",
       "      fill: #FFFFFF;\n",
       "    }\n",
       "  </style>\n",
       "\n",
       "    <script>\n",
       "      const buttonEl =\n",
       "        document.querySelector('#df-da4b0e4f-e5ca-499a-802e-a7c7be5a769e button.colab-df-convert');\n",
       "      buttonEl.style.display =\n",
       "        google.colab.kernel.accessAllowed ? 'block' : 'none';\n",
       "\n",
       "      async function convertToInteractive(key) {\n",
       "        const element = document.querySelector('#df-da4b0e4f-e5ca-499a-802e-a7c7be5a769e');\n",
       "        const dataTable =\n",
       "          await google.colab.kernel.invokeFunction('convertToInteractive',\n",
       "                                                    [key], {});\n",
       "        if (!dataTable) return;\n",
       "\n",
       "        const docLinkHtml = 'Like what you see? Visit the ' +\n",
       "          '<a target=\"_blank\" href=https://colab.research.google.com/notebooks/data_table.ipynb>data table notebook</a>'\n",
       "          + ' to learn more about interactive tables.';\n",
       "        element.innerHTML = '';\n",
       "        dataTable['output_type'] = 'display_data';\n",
       "        await google.colab.output.renderOutput(dataTable, element);\n",
       "        const docLink = document.createElement('div');\n",
       "        docLink.innerHTML = docLinkHtml;\n",
       "        element.appendChild(docLink);\n",
       "      }\n",
       "    </script>\n",
       "  </div>\n",
       "\n",
       "\n",
       "<div id=\"df-c9f7b544-200d-4709-80ac-4e5717ad3c9f\">\n",
       "  <button class=\"colab-df-quickchart\" onclick=\"quickchart('df-c9f7b544-200d-4709-80ac-4e5717ad3c9f')\"\n",
       "            title=\"Suggest charts\"\n",
       "            style=\"display:none;\">\n",
       "\n",
       "<svg xmlns=\"http://www.w3.org/2000/svg\" height=\"24px\"viewBox=\"0 0 24 24\"\n",
       "     width=\"24px\">\n",
       "    <g>\n",
       "        <path d=\"M19 3H5c-1.1 0-2 .9-2 2v14c0 1.1.9 2 2 2h14c1.1 0 2-.9 2-2V5c0-1.1-.9-2-2-2zM9 17H7v-7h2v7zm4 0h-2V7h2v10zm4 0h-2v-4h2v4z\"/>\n",
       "    </g>\n",
       "</svg>\n",
       "  </button>\n",
       "\n",
       "<style>\n",
       "  .colab-df-quickchart {\n",
       "      --bg-color: #E8F0FE;\n",
       "      --fill-color: #1967D2;\n",
       "      --hover-bg-color: #E2EBFA;\n",
       "      --hover-fill-color: #174EA6;\n",
       "      --disabled-fill-color: #AAA;\n",
       "      --disabled-bg-color: #DDD;\n",
       "  }\n",
       "\n",
       "  [theme=dark] .colab-df-quickchart {\n",
       "      --bg-color: #3B4455;\n",
       "      --fill-color: #D2E3FC;\n",
       "      --hover-bg-color: #434B5C;\n",
       "      --hover-fill-color: #FFFFFF;\n",
       "      --disabled-bg-color: #3B4455;\n",
       "      --disabled-fill-color: #666;\n",
       "  }\n",
       "\n",
       "  .colab-df-quickchart {\n",
       "    background-color: var(--bg-color);\n",
       "    border: none;\n",
       "    border-radius: 50%;\n",
       "    cursor: pointer;\n",
       "    display: none;\n",
       "    fill: var(--fill-color);\n",
       "    height: 32px;\n",
       "    padding: 0;\n",
       "    width: 32px;\n",
       "  }\n",
       "\n",
       "  .colab-df-quickchart:hover {\n",
       "    background-color: var(--hover-bg-color);\n",
       "    box-shadow: 0 1px 2px rgba(60, 64, 67, 0.3), 0 1px 3px 1px rgba(60, 64, 67, 0.15);\n",
       "    fill: var(--button-hover-fill-color);\n",
       "  }\n",
       "\n",
       "  .colab-df-quickchart-complete:disabled,\n",
       "  .colab-df-quickchart-complete:disabled:hover {\n",
       "    background-color: var(--disabled-bg-color);\n",
       "    fill: var(--disabled-fill-color);\n",
       "    box-shadow: none;\n",
       "  }\n",
       "\n",
       "  .colab-df-spinner {\n",
       "    border: 2px solid var(--fill-color);\n",
       "    border-color: transparent;\n",
       "    border-bottom-color: var(--fill-color);\n",
       "    animation:\n",
       "      spin 1s steps(1) infinite;\n",
       "  }\n",
       "\n",
       "  @keyframes spin {\n",
       "    0% {\n",
       "      border-color: transparent;\n",
       "      border-bottom-color: var(--fill-color);\n",
       "      border-left-color: var(--fill-color);\n",
       "    }\n",
       "    20% {\n",
       "      border-color: transparent;\n",
       "      border-left-color: var(--fill-color);\n",
       "      border-top-color: var(--fill-color);\n",
       "    }\n",
       "    30% {\n",
       "      border-color: transparent;\n",
       "      border-left-color: var(--fill-color);\n",
       "      border-top-color: var(--fill-color);\n",
       "      border-right-color: var(--fill-color);\n",
       "    }\n",
       "    40% {\n",
       "      border-color: transparent;\n",
       "      border-right-color: var(--fill-color);\n",
       "      border-top-color: var(--fill-color);\n",
       "    }\n",
       "    60% {\n",
       "      border-color: transparent;\n",
       "      border-right-color: var(--fill-color);\n",
       "    }\n",
       "    80% {\n",
       "      border-color: transparent;\n",
       "      border-right-color: var(--fill-color);\n",
       "      border-bottom-color: var(--fill-color);\n",
       "    }\n",
       "    90% {\n",
       "      border-color: transparent;\n",
       "      border-bottom-color: var(--fill-color);\n",
       "    }\n",
       "  }\n",
       "</style>\n",
       "\n",
       "  <script>\n",
       "    async function quickchart(key) {\n",
       "      const quickchartButtonEl =\n",
       "        document.querySelector('#' + key + ' button');\n",
       "      quickchartButtonEl.disabled = true;  // To prevent multiple clicks.\n",
       "      quickchartButtonEl.classList.add('colab-df-spinner');\n",
       "      try {\n",
       "        const charts = await google.colab.kernel.invokeFunction(\n",
       "            'suggestCharts', [key], {});\n",
       "      } catch (error) {\n",
       "        console.error('Error during call to suggestCharts:', error);\n",
       "      }\n",
       "      quickchartButtonEl.classList.remove('colab-df-spinner');\n",
       "      quickchartButtonEl.classList.add('colab-df-quickchart-complete');\n",
       "    }\n",
       "    (() => {\n",
       "      let quickchartButtonEl =\n",
       "        document.querySelector('#df-c9f7b544-200d-4709-80ac-4e5717ad3c9f button');\n",
       "      quickchartButtonEl.style.display =\n",
       "        google.colab.kernel.accessAllowed ? 'block' : 'none';\n",
       "    })();\n",
       "  </script>\n",
       "</div>\n",
       "    </div>\n",
       "  </div>\n"
      ],
      "text/plain": [
       "                                 column_name\n",
       "Adult_Mortality                    -2.170051\n",
       "Alcohol                            -0.497004\n",
       "percentage_expenditure              0.538908\n",
       "BMI                                 0.686499\n",
       "Total_expenditure                   0.246532\n",
       "Diphtheria                          0.550292\n",
       "HIV_AIDS                           -3.171361\n",
       "GDP                                 0.129958\n",
       "Population                         -0.084631\n",
       "Income_composition_of_resources     2.102447\n",
       "Schooling                           2.660248\n",
       "Health_Index                        0.254583\n",
       "Year_2002                           0.556339\n",
       "Year_2003                           0.894259\n",
       "Year_2004                           0.561044\n",
       "Year_2005                           0.578671\n",
       "Year_2006                           0.281139\n",
       "Year_2007                           0.225120\n",
       "Year_2008                          -0.097972\n",
       "Year_2009                          -0.405501\n",
       "Year_2010                          -0.558423\n",
       "Year_2011                          -0.781687\n",
       "Year_2012                          -0.716917\n",
       "Year_2013                          -0.850839\n",
       "Year_2014                          -0.857426\n",
       "Year_2015                           1.172194\n",
       "Status_Developed                    0.315457\n",
       "Status_Developing                  -0.315457"
      ]
     },
     "execution_count": 34,
     "metadata": {},
     "output_type": "execute_result"
    }
   ],
   "source": [
    "pd.DataFrame([model.coef_], columns=X_train.columns, index=['column_name']).T"
   ]
  },
  {
   "cell_type": "code",
   "execution_count": null,
   "metadata": {
    "colab": {
     "base_uri": "https://localhost:8080/",
     "height": 732
    },
    "id": "1rVOH4uCsE_3",
    "outputId": "e2adbdf1-0333-4bce-a335-3ecb1b8cc462"
   },
   "outputs": [
    {
     "name": "stderr",
     "output_type": "stream",
     "text": [
      "<ipython-input-37-1df3d0bfd6af>:1: FutureWarning: The default value of numeric_only in DataFrame.corr is deprecated. In a future version, it will default to False. Select only valid columns or specify the value of numeric_only to silence this warning.\n",
      "  sns.heatmap(train.corr())\n"
     ]
    },
    {
     "data": {
      "text/plain": [
       "<Axes: >"
      ]
     },
     "execution_count": 37,
     "metadata": {},
     "output_type": "execute_result"
    },
    {
     "data": {
      "image/png": "[encoded data removed]",
      "text/plain": [
       "<Figure size 640x480 with 2 Axes>"
      ]
     },
     "metadata": {},
     "output_type": "display_data"
    }
   ],
   "source": [
    "sns.heatmap(train.corr())"
   ]
  },
  {
   "cell_type": "markdown",
   "metadata": {
    "id": "q18iLjtHX25r"
   },
   "source": [
    "The variables with high correlation, such as GDP and percentage_expenditure, capture similar factors. Including both of these variables in the analysis would lead to an overestimation of their importance, introducing redundancy in the assessment. There also appears to be a relatively high correlation between schooling and income_composition_of_resources. Both of these cases suffer from the problem of multicollinearity. Several things we could do include drop features or adopt dimension reduction on highly correlated variables. We can also implement techniques like LASSO regularization that will shrink coefficient values and penalize variables involved in multicollinearity. Some variables may disappear completely if we use LASSO, which adequately tackles the problem of multicollinearity."
   ]
  },
  {
   "cell_type": "markdown",
   "metadata": {
    "id": "FJ51d6d2YyPp"
   },
   "source": [
    "### Goodness of fit\n",
    "calculating R2 score"
   ]
  },
  {
   "cell_type": "code",
   "execution_count": null,
   "metadata": {
    "id": "Hr0giuHXY4J5"
   },
   "outputs": [],
   "source": [
    "from sklearn.metrics import r2_score"
   ]
  },
  {
   "cell_type": "markdown",
   "metadata": {
    "id": "kFiC_mfgY7m1"
   },
   "source": [
    "$R^2$ for model with \"Schooling\" as predictor and \"Life_expectancy\" as outcome"
   ]
  },
  {
   "cell_type": "code",
   "execution_count": null,
   "metadata": {
    "colab": {
     "base_uri": "https://localhost:8080/"
    },
    "id": "LIspp_FPaicb",
    "outputId": "e062492f-ade8-4cbe-d124-d17d30bbcab6"
   },
   "outputs": [
    {
     "data": {
      "text/plain": [
       "0.5702238510104201"
      ]
     },
     "execution_count": 40,
     "metadata": {},
     "output_type": "execute_result"
    }
   ],
   "source": [
    "\n",
    "\n",
    "# Print R2 score\n",
    "r2_score(y_train, LinearRegression().fit(X_train[[\"Schooling\"]], y_train).predict(X_train[[\"Schooling\"]]))"
   ]
  },
  {
   "cell_type": "markdown",
   "metadata": {
    "id": "5fGTnWcobCc_"
   },
   "source": [
    "$R^2$ for model with \"Schooling\", \"Adult_Mortality\" as predictor and \"Life_expectancy\" as outcome"
   ]
  },
  {
   "cell_type": "code",
   "execution_count": null,
   "metadata": {
    "colab": {
     "base_uri": "https://localhost:8080/"
    },
    "id": "XqBXqRZlbjy7",
    "outputId": "3d14fcd6-875b-42f1-dd6f-b2f1d07dceab"
   },
   "outputs": [
    {
     "data": {
      "text/plain": [
       "0.7248288890984036"
      ]
     },
     "execution_count": 41,
     "metadata": {},
     "output_type": "execute_result"
    }
   ],
   "source": [
    "\n",
    "\n",
    "# Print R2 score\n",
    "r2_score(y_train, LinearRegression().fit(X_train[[\"Schooling\", \"Adult_Mortality\"]], y_train).predict(X_train[[\"Schooling\", \"Adult_Mortality\"]]))"
   ]
  },
  {
   "cell_type": "markdown",
   "metadata": {
    "id": "dE1PDtR0bVdX"
   },
   "source": [
    "$R^2$ for model with \"Schooling\",\"Adult_Mortality\" and \"Population\" as predictor and \"Life_expectancy\" as outcome"
   ]
  },
  {
   "cell_type": "code",
   "execution_count": null,
   "metadata": {
    "colab": {
     "base_uri": "https://localhost:8080/"
    },
    "id": "5WxDGrKqbyR2",
    "outputId": "fc197970-fd20-425e-980e-8c58f52a863b"
   },
   "outputs": [
    {
     "data": {
      "text/plain": [
       "0.7248514023230492"
      ]
     },
     "execution_count": 42,
     "metadata": {},
     "output_type": "execute_result"
    }
   ],
   "source": [
    "\n",
    "# Print R2 score\n",
    "\n",
    "r2_score(y_train, LinearRegression().fit(X_train[[\"Schooling\", \"Adult_Mortality\", \"Population\"]], y_train).predict(X_train[[\"Schooling\", \"Adult_Mortality\", \"Population\"]]))"
   ]
  },
  {
   "cell_type": "markdown",
   "metadata": {
    "id": "vYdvN1CTcMuN"
   },
   "source": [
    "We can see $R^2$ is always going up as we keep adding features.\n",
    "\n",
    "This is one drawback of only using $R^2$ to evaluate your model. Adding predictors seems to always improve the predictive ability of your model, though it may not be true.\n",
    "\n",
    "That is to say, we are not necessarily interested in making a perfect prediciton of our training data. If we were, we would always use all of the predictors available. Rather, we would like to make a perfect prediction of our test data. In this case, adding all the predictors may not be a good idea due to the trade-off between bias and variance. Thus, we are interested in the most predictive features, in the hopes that we can create a simpler model that performs well in the future.\n",
    "\n",
    "This is why we consider another metric, Adjusted R2.\n",
    "The adjusted R-squared increases only if the new term improves the model more than would be expected by chance.\n",
    "\n",
    "\n",
    "$AdjustedR^2$ = $1 - \\dfrac{(1-R^2)(n-1)}{(n-p-1)}$<br/>\n",
    "where:<br/>\n",
    "n = number of samples<br/>\n",
    "p = number of features\n",
    "\n"
   ]
  },
  {
   "cell_type": "markdown",
   "metadata": {
    "id": "CCqEwoDNcOgb"
   },
   "source": [
    "Adjusted $R^2$ for model with \"Schooling\" as predictor and \"Life_expectancy\" as outcome"
   ]
  },
  {
   "cell_type": "code",
   "execution_count": null,
   "metadata": {
    "colab": {
     "base_uri": "https://localhost:8080/"
    },
    "id": "mCgTtpskch0n",
    "outputId": "9c88d758-44cc-4eb1-b40f-f8f4ffcaddd0"
   },
   "outputs": [
    {
     "data": {
      "text/plain": [
       "0.5698191653710702"
      ]
     },
     "execution_count": 43,
     "metadata": {},
     "output_type": "execute_result"
    }
   ],
   "source": [
    "#defining a function for adjuster r^2\n",
    "def adj_r2(r2:float, n:int, p:int) -> float:\n",
    "    return 1 - (1-r2)*(n-1) / (n-p-1)\n",
    "\n",
    "# Print Adjusted R2 score\n",
    "adj_r2(\n",
    "    r2=r2_score(y_train, LinearRegression().fit(X_train[[\"Schooling\"]], y_train).predict(X_train[[\"Schooling\"]])),\n",
    "    n=X_train.shape[0],\n",
    "    p=1\n",
    ")"
   ]
  },
  {
   "cell_type": "markdown",
   "metadata": {
    "id": "cKLKf_ODc842"
   },
   "source": [
    "Adjusted $R^2$ for model with \"Schooling\", \"Adult_Mortality\" as predictor and \"Life_expectancy\" as outcome."
   ]
  },
  {
   "cell_type": "code",
   "execution_count": null,
   "metadata": {
    "colab": {
     "base_uri": "https://localhost:8080/"
    },
    "id": "n6j0eaIxdFoD",
    "outputId": "b25fa7cd-684d-499a-b37b-08c005ebc067"
   },
   "outputs": [
    {
     "data": {
      "text/plain": [
       "0.7243101876640934"
      ]
     },
     "execution_count": 44,
     "metadata": {},
     "output_type": "execute_result"
    }
   ],
   "source": [
    "\n",
    "\n",
    "# Print Adjusted R2 score\n",
    "adj_r2(\n",
    "    r2=r2_score(y_train, LinearRegression().fit(X_train[[\"Schooling\", \"Adult_Mortality\"]], y_train).predict(X_train[[\"Schooling\", \"Adult_Mortality\"]])),\n",
    "    n=X_train.shape[0],\n",
    "    p=2\n",
    ")"
   ]
  },
  {
   "cell_type": "markdown",
   "metadata": {
    "id": "R3oT1NbDdRcK"
   },
   "source": [
    "Adjusted $R^2$ for model with \"Schooling\",\"Adult_Mortality\" and \"Population\" as predictor and \"Life_expectancy\" as outcome"
   ]
  },
  {
   "cell_type": "code",
   "execution_count": null,
   "metadata": {
    "colab": {
     "base_uri": "https://localhost:8080/"
    },
    "id": "KLOFJL2LdVEz",
    "outputId": "87823ac6-f075-4fb5-9ec9-7738b4454f99"
   },
   "outputs": [
    {
     "data": {
      "text/plain": [
       "0.7243327433264857"
      ]
     },
     "execution_count": 45,
     "metadata": {},
     "output_type": "execute_result"
    }
   ],
   "source": [
    "\n",
    "\n",
    "# Print Adjusted R2 score\n",
    "adj_r2(\n",
    "    r2=r2_score(y_train, LinearRegression().fit(X_train[[\"Schooling\", \"Adult_Mortality\", \"Population\"]], y_train).predict(X_train[[\"Schooling\", \"Adult_Mortality\", \"Population\"]])),\n",
    "    n=X_train.shape[0],\n",
    "    p=2\n",
    ")"
   ]
  },
  {
   "cell_type": "markdown",
   "metadata": {
    "id": "HDHU67n8d4x7"
   },
   "source": [
    "### K-fold Cross-Validation\n",
    "\n",
    "However, adjusted $R^2$ is not enough to help us ahieve the best model, a more robust method is k-fold cross-validation.\n",
    "\n",
    "* Randomly split dataset into K equal-sized subsets, or folds\n",
    "* Treat each fold as validation set (train on all but K'th fold and test on K'th fold only)\n",
    "\n",
    "* The overall error is then the mean error over all K models.\n",
    "* Most common are 5- or 10-fold cross-validation\n",
    "\n",
    "Implementing a 5-fold cross-validation by yourselves to find the best model in terms of Mean Square Error(MSE)\n",
    "\n"
   ]
  },
  {
   "cell_type": "code",
   "execution_count": null,
   "metadata": {
    "colab": {
     "base_uri": "https://localhost:8080/"
    },
    "id": "QnbM2CcZFhWs",
    "outputId": "a93b03ce-21c0-46db-a8a3-c1c280b40fce"
   },
   "outputs": [
    {
     "data": {
      "text/plain": [
       "13.528495512157269"
      ]
     },
     "execution_count": 54,
     "metadata": {},
     "output_type": "execute_result"
    }
   ],
   "source": [
    "# Designing a function to implement 5-fold cross-validation.\n",
    "# The input: training features X, training target y and # of folds f=5.\n",
    "# The output: the average of MSE over the 5 folds.\n",
    "\n",
    "def cross_val_mse(X, y, f):\n",
    "    ### Write your code here ###\n",
    "\n",
    "    total = pd.concat([X, y],axis='columns')\n",
    "    col_names = total.columns.values\n",
    "    total = total.sample(frac=1).reset_index(drop=True)\n",
    "\n",
    "    fold_size = len(total) // f\n",
    "    remainder = len(total) % f\n",
    "\n",
    "    mses = []\n",
    "    start = 0\n",
    "    for i in range(f):\n",
    "        end = start + fold_size + (1 if i < remainder else 0)\n",
    "        test_indices = range(start, end)\n",
    "        train_indices = list(set(range(len(total))) - set(test_indices))\n",
    "        start = end\n",
    "        X_val = total[total.index.isin(test_indices)][col_names[:-1]]\n",
    "        X_train = total[total.index.isin(train_indices)][col_names[:-1]]\n",
    "        y_val = total[total.index.isin(test_indices)][col_names[-1]]\n",
    "        y_train = total[total.index.isin(train_indices)][col_names[-1]]\n",
    "        model = LinearRegression().fit(X_train, y_train)\n",
    "        mses.append(mean_squared_error(y_val, model.predict(X_val)))\n",
    "    return sum(mses) / f\n",
    "cross_val_mse(X_train, y_train, 5)"
   ]
  },
  {
   "cell_type": "code",
   "execution_count": null,
   "metadata": {
    "colab": {
     "base_uri": "https://localhost:8080/"
    },
    "id": "ZxURVCdbFuWB",
    "outputId": "7117ac2b-b504-4966-f9eb-699bc9805700"
   },
   "outputs": [
    {
     "name": "stderr",
     "output_type": "stream",
     "text": [
      "<ipython-input-84-78cd0aa7848e>:37: FutureWarning: Passing a set as an indexer is deprecated and will raise in a future version. Use a list instead.\n",
      "  acc_dict[num_feat_to_keep][\"mse\"] = cross_val_mse(X_train[selected_features], y_train, 5)\n",
      "<ipython-input-84-78cd0aa7848e>:37: FutureWarning: Passing a set as an indexer is deprecated and will raise in a future version. Use a list instead.\n",
      "  acc_dict[num_feat_to_keep][\"mse\"] = cross_val_mse(X_train[selected_features], y_train, 5)\n",
      "<ipython-input-84-78cd0aa7848e>:37: FutureWarning: Passing a set as an indexer is deprecated and will raise in a future version. Use a list instead.\n",
      "  acc_dict[num_feat_to_keep][\"mse\"] = cross_val_mse(X_train[selected_features], y_train, 5)\n",
      "<ipython-input-84-78cd0aa7848e>:37: FutureWarning: Passing a set as an indexer is deprecated and will raise in a future version. Use a list instead.\n",
      "  acc_dict[num_feat_to_keep][\"mse\"] = cross_val_mse(X_train[selected_features], y_train, 5)\n",
      "<ipython-input-84-78cd0aa7848e>:37: FutureWarning: Passing a set as an indexer is deprecated and will raise in a future version. Use a list instead.\n",
      "  acc_dict[num_feat_to_keep][\"mse\"] = cross_val_mse(X_train[selected_features], y_train, 5)\n",
      "<ipython-input-84-78cd0aa7848e>:37: FutureWarning: Passing a set as an indexer is deprecated and will raise in a future version. Use a list instead.\n",
      "  acc_dict[num_feat_to_keep][\"mse\"] = cross_val_mse(X_train[selected_features], y_train, 5)\n"
     ]
    }
   ],
   "source": [
    "# Finding the best combination of features, which has the lowest averaged MSE\n",
    "from itertools import combinations\n",
    "\n",
    "best_avg_mse = float('inf')\n",
    "best_feat = []\n",
    "\n",
    "cat_cols = [\"Status\"]\n",
    "encoder = OneHotEncoder(sparse_output=False, handle_unknown=\"infrequent_if_exist\").fit(train[cat_cols])\n",
    "enc_column_names = [f\"{col}_{enc}\" for col, encs in zip(cat_cols, encoder.categories_) for enc in encs]\n",
    "train_cat = pd.DataFrame(encoder.transform(train[cat_cols]), columns=enc_column_names)\n",
    "test_cat = pd.DataFrame(encoder.transform(test[cat_cols]), columns=enc_column_names)\n",
    "y_train = train[\"Life_expectancy\"]\n",
    "X_train = pd.concat([train.drop(cat_cols+[\"Life_expectancy\"], axis='columns'), train_cat],axis='columns')\n",
    "X_test = pd.concat([test.drop(cat_cols, axis='columns'), test_cat],axis='columns')\n",
    "\n",
    "acc_dict = {k:{\"feats\":None, \"mse\":0} for k in range(5, 11)}\n",
    "for num_feat_to_keep in range(5, 11):\n",
    "  selected_features = set(X_train.columns.values)\n",
    "  while len(selected_features) > num_feat_to_keep:  # Stop when only one feature is left\n",
    "      accuracies = []\n",
    "\n",
    "      for feature in selected_features:\n",
    "          # Exclude one feature at a time\n",
    "          subset_features = [f for f in selected_features if f != feature]\n",
    "          feat_avg_mse = cross_val_mse(X_train[subset_features], y_train, 5)\n",
    "          accuracies.append((feature, feat_avg_mse))\n",
    "\n",
    "      # Identify the least important feature\n",
    "      accuracies.sort(key=lambda x: x[1])\n",
    "      least_important_feature = accuracies[0][0]\n",
    "\n",
    "      # Remove the least important feature\n",
    "      selected_features.remove(least_important_feature)\n",
    "  acc_dict[num_feat_to_keep][\"feats\"] = selected_features\n",
    "  acc_dict[num_feat_to_keep][\"mse\"] = cross_val_mse(X_train[selected_features], y_train, 5)"
   ]
  },
  {
   "cell_type": "code",
   "execution_count": null,
   "metadata": {
    "id": "v3gycdAq7NPU"
   },
   "outputs": [],
   "source": [
    "selected_features = []\n",
    "cur_min_mse = float('inf')\n",
    "for num_feat in acc_dict:\n",
    "  if acc_dict[num_feat][\"mse\"] < cur_min_mse:\n",
    "    cur_min_mse = acc_dict[num_feat][\"mse\"]\n",
    "    selected_features = acc_dict[num_feat]['feats']"
   ]
  },
  {
   "cell_type": "code",
   "execution_count": null,
   "metadata": {
    "colab": {
     "base_uri": "https://localhost:8080/"
    },
    "id": "T3WWuFZ-eGGE",
    "outputId": "0d87b889-84ed-4d53-822e-5b23171f6bfa"
   },
   "outputs": [
    {
     "name": "stdout",
     "output_type": "stream",
     "text": [
      "{'Total_expenditure', 'Adult_Mortality', 'HIV_AIDS', 'Schooling', 'BMI', 'GDP', 'Year', 'Diphtheria', 'Income_composition_of_resources'}\n",
      "13.49794188544766\n"
     ]
    },
    {
     "name": "stderr",
     "output_type": "stream",
     "text": [
      "<ipython-input-87-1bd82850ddcb>:4: FutureWarning: Passing a set as an indexer is deprecated and will raise in a future version. Use a list instead.\n",
      "  print(cross_val_mse(X_train[selected_features], y_train, 5))\n"
     ]
    }
   ],
   "source": [
    "# Print the best features and the corresponding mse\n",
    "\n",
    "print(selected_features)\n",
    "print(cross_val_mse(X_train[selected_features], y_train, 5))"
   ]
  },
  {
   "cell_type": "markdown",
   "metadata": {
    "id": "F-WBDncGtiY2"
   },
   "source": [
    "### Test the model\n",
    "Applying the best model to predict the target values from the test feature set \"LifeExpectancy_test_modified.csv\"."
   ]
  },
  {
   "cell_type": "code",
   "execution_count": null,
   "metadata": {
    "id": "tYJ-KOqzuLj2"
   },
   "outputs": [],
   "source": [
    "\n",
    "model = LinearRegression().fit(X_train[list(selected_features)], y_train)"
   ]
  },
  {
   "cell_type": "code",
   "execution_count": null,
   "metadata": {
    "id": "YAUlAuc09Uk9"
   },
   "outputs": [],
   "source": [
    "# Output your prediction on test set as y_pred.\n",
    "y_pred = model.predict(X_test[list(selected_features)])"
   ]
  },
  {
   "cell_type": "code",
   "execution_count": null,
   "metadata": {
    "id": "aPfqPkQ2vbq7"
   },
   "outputs": [],
   "source": [
    "#end"
   ]
  }
 ],
 "metadata": {
  "colab": {
   "provenance": []
  },
  "kernelspec": {
   "display_name": "Python 3 (ipykernel)",
   "language": "python",
   "name": "python3"
  },
  "language_info": {
   "codemirror_mode": {
    "name": "ipython",
    "version": 3
   },
   "file_extension": ".py",
   "mimetype": "text/x-python",
   "name": "python",
   "nbconvert_exporter": "python",
   "pygments_lexer": "ipython3",
   "version": "3.11.4"
  }
 },
 "nbformat": 4,
 "nbformat_minor": 1
}
